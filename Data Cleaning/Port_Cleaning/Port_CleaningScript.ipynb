{
 "cells": [
  {
   "cell_type": "markdown",
   "id": "48e3b733",
   "metadata": {},
   "source": [
    "# Data Extraction and Cleaning \n",
    "------------------------------------------------------------------------\n",
    "#### Goal : \n",
    "Extracting 2 Files Offers <br>\n",
    "1. Offer_Content --> offer_url | country_id | price\n",
    "2. Offer_Template --> port_form_id | port_to_id\t| trip_type | url | publish_date | expir_date<br>\n",
    "\n",
    "Using files (Core File: Ports AUG , 2 File From DB (Countries ID's , Port_Cities ID's & Code's))<br>\n",
    "\n",
    "#### Importing Data\n",
    "After Some Manipulation On Data I Found The Following Data Entry Errors <br>\n",
    "- Alot of strips (Spaces) in words that makes extraction of data uncomfortable like : ' city ' instade of 'city'\n",
    "- Some of the entered data in way and price column is loaded on more than one row like : Row 1 (Info) Row 2 (Info associated to row 1). Which make extraction of data is distributed <br>\n",
    "- from is written frm : idx==>111\n",
    "- there is a city concat with to word like 'erdento' not 'erden to': idx==>54\n",
    "this will effect on the search. so i will handle this two entries manually\n",
    "- change capital : paramaribo --> country : suriname <br>\n",
    "\n",
    "So we will handle this issues and make extraction more comfortable"
   ]
  },
  {
   "cell_type": "code",
   "execution_count": 5,
   "id": "a2cf6938",
   "metadata": {},
   "outputs": [
    {
     "name": "stdout",
     "output_type": "stream",
     "text": [
      "Reported Errors: [('aykalam', [21]), ('newcity', [22]), ('zzzzzzzz', [23])]\n",
      "Done Importing!\n"
     ]
    }
   ],
   "source": [
    "#Libraries\n",
    "import pandas as pd\n",
    "import numpy as np\n",
    "from my_functions import aux_fn,port_correction_scraping\n",
    "#------------------------------\n",
    "#Core Code\n",
    "#----------\n",
    "#Extract Ports AUG data\n",
    "original_df = aux_fn.extract_original_df()\n",
    "#Modify Some Issues\n",
    "original_df['Trip'].iloc[54] = original_df['Trip'].iloc[54].replace('emdanto','emdan to')\n",
    "original_df['Trip'].iloc[111] = original_df['Trip'].iloc[111].replace('frm','from')\n",
    "original_df.loc[original_df['Country']=='paramaribo','Country'] = 'suriname'\n",
    "#Extracting information from columns \n",
    "original_df = aux_fn.extract_from_to_price(original_df)\n",
    "#Scrape lists to test \n",
    "from_list_scrap,to_list_scrap=original_df['Trip_From'].unique(),original_df['Trip_From'].unique()\n",
    "#Extracting Ports_cities_codes_and_IDs file\n",
    "city_ports_df = aux_fn.extract_id_code()\n",
    "#Handle some issues\n",
    "original_df, ports_errors = aux_fn.handling_port_errors(original_df,city_ports_df)\n",
    "#Checking Errors\n",
    "if len(ports_errors)==0:\n",
    "    print('Errors In Port Column Handled')\n",
    "else:\n",
    "    print(f'Reported Errors: {ports_errors}')\n",
    "#Modifing some types and spaces\n",
    "original_df , city_ports_df = aux_fn.mod_orig_city_dfs(original_df,city_ports_df)\n",
    "#Importing Files\n",
    "aux_fn.offers_template(original_df,city_ports_df)"
   ]
  },
  {
   "cell_type": "code",
   "execution_count": null,
   "id": "c55dbf30",
   "metadata": {},
   "outputs": [],
   "source": [
    "#THIS AN EXTRA TASK THAT SCRAP DID YOU MEAN FROM GOOGLE TO GET THE CORRECT PORT NAME\n",
    "#UNCOMMENT AND RUN TO SEE!\n",
    "#Code----------\n",
    "\n",
    "# port_correction_scraping.scrap(from_list=from_list_scrap,\n",
    "#                                to_list=to_list_scrap)"
   ]
  }
 ],
 "metadata": {
  "kernelspec": {
   "display_name": "Python 3 (ipykernel)",
   "language": "python",
   "name": "python3"
  },
  "language_info": {
   "codemirror_mode": {
    "name": "ipython",
    "version": 3
   },
   "file_extension": ".py",
   "mimetype": "text/x-python",
   "name": "python",
   "nbconvert_exporter": "python",
   "pygments_lexer": "ipython3",
   "version": "3.11.7"
  }
 },
 "nbformat": 4,
 "nbformat_minor": 5
}
